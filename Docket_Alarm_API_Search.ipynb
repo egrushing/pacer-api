{
  "nbformat": 4,
  "nbformat_minor": 0,
  "metadata": {
    "colab": {
      "provenance": [],
      "include_colab_link": true
    },
    "kernelspec": {
      "name": "python3",
      "display_name": "Python 3"
    }
  },
  "cells": [
    {
      "cell_type": "markdown",
      "metadata": {
        "id": "view-in-github",
        "colab_type": "text"
      },
      "source": [
        "<a href=\"https://colab.research.google.com/github/egrushing/pacer-api/blob/master/Docket_Alarm_API_Search.ipynb\" target=\"_parent\"><img src=\"https://colab.research.google.com/assets/colab-badge.svg\" alt=\"Open In Colab\"/></a>"
      ]
    },
    {
      "cell_type": "markdown",
      "metadata": {
        "id": "yLgTWWbr23y8"
      },
      "source": [
        "![Docket Alarm Logo](data:image/png;base64,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)\n",
        "# Docket Alarm API Jupyter Notebook\n",
        "\n",
        "*September 2020*\n",
        "\n",
        "This short notebook just logs into the Docket Alarm API, runs a search, and then prints out results. If the results contain documents, then it will print out the OCRed document text as well."
      ]
    },
    {
      "cell_type": "markdown",
      "metadata": {
        "id": "FqLxMtIT0fRr"
      },
      "source": [
        "## Set User API Login Credentials"
      ]
    },
    {
      "cell_type": "code",
      "metadata": {
        "id": "PHhY66b40Afc"
      },
      "source": [
        "import getpass\n",
        "# Set your username here.\n",
        "username = \"emily.rushing@haynesboone.com\"\n",
        "# Get the password for the username.\n",
        "password = 'haynes1'"
      ],
      "execution_count": 4,
      "outputs": []
    },
    {
      "cell_type": "markdown",
      "metadata": {
        "id": "YdfDrCvt0s8Z"
      },
      "source": [
        "## Set the Query that you want to search\n",
        "\n",
        "Query [documentation is available here](https://www.docketalarm.com/posts/2014/6/23/Terms-and-Connectors-Searching-With-Docket-Alarm/)."
      ]
    },
    {
      "cell_type": "code",
      "metadata": {
        "id": "44P3Awib0u5_"
      },
      "source": [
        "query = 'is:docket_num:\"2019-65517\")'"
      ],
      "execution_count": 1,
      "outputs": []
    },
    {
      "cell_type": "markdown",
      "metadata": {
        "id": "dC2H2GN_0kX4"
      },
      "source": [
        "## Login, Do a Search\n",
        "\n"
      ]
    },
    {
      "cell_type": "code",
      "metadata": {
        "id": "JQSTSuudrwy-",
        "colab": {
          "base_uri": "https://localhost:8080/",
          "height": 322
        },
        "outputId": "69826cb6-4f0f-482e-deb3-99fb33b5ea93"
      },
      "source": [
        "import urllib\n",
        "import urllib.request\n",
        "import urllib.parse\n",
        "import json\n",
        "import pprint\n",
        "\n",
        "endpoint = \"https://www.docketalarm.com/api/v1/\"\n",
        "\n",
        "def get_login_token(username, password):\n",
        "  '''Login to the API with the username and password'''\n",
        "  # Encode our parameters\n",
        "  data = urllib.parse.urlencode({\n",
        "      'username' : username,\n",
        "      'password' : password\n",
        "  })\n",
        "  # Convert the data string into bytes. The Request object needs bytes.\n",
        "  data = data.encode('utf8')\n",
        "  # Put together the request.\n",
        "  login_resp = urllib.request.Request(endpoint + \"login/\", data=data)\n",
        "\n",
        "  # Make the request\n",
        "  data_resp = urllib.request.urlopen(login_resp)\n",
        "  # Read the request\n",
        "  data_resp = data_resp.read()\n",
        "  # Change from binary object to string object.\n",
        "  data_resp = data_resp.decode('utf8')\n",
        "  # Decode string via json.\n",
        "  data_resp = json.loads(data_resp)\n",
        "  # Make sure there were no error returned by the API.\n",
        "  if data_resp.get('success') == False:\n",
        "    raise Exception(\"Search Error: %s\"%(data_resp.get('error')))\n",
        "  login_token = data_resp['login_token']\n",
        "  return login_token\n",
        "\n",
        "def do_search(query, login_token, order='-date_filed', limit=5, offset=0):\n",
        "  '''Given a query and login token, do a search.'''\n",
        "  if order not in [\"\", \"-date_filed\", \"date_filed\", \"random\", \n",
        "                   \"date_last_filing\", \"-date_last_filing\"]:\n",
        "    raise Exception(\"Bad Order Specified: %s\"%order)\n",
        "  if limit < 0 or limit > 50:\n",
        "    raise Exception(\"Limit must be >0 and <=50.\")\n",
        "  data = urllib.parse.urlencode({\n",
        "      'q' : query,\n",
        "      'o' : order,\n",
        "      'limit' : limit,\n",
        "      'offset' : offset,\n",
        "      'login_token' : login_token\n",
        "  })\n",
        "  # Put together the request.\n",
        "  search_req = urllib.request.Request(endpoint + \"search/?\" + data)\n",
        "\n",
        "  # Make the request\n",
        "  data_resp = urllib.request.urlopen(search_req)\n",
        "  # Read the request\n",
        "  data_resp = data_resp.read()\n",
        "  # change from binary object to string object\n",
        "  data_resp = data_resp.decode('utf8')\n",
        "  # decode string via json\n",
        "  data_resp = json.loads(data_resp)\n",
        "  # Make sure there were no error returned by the API.\n",
        "  if data_resp.get('success') == False:\n",
        "    raise Exception(\"Search Error: %s\"%(data_resp.get('error')))\n",
        "  return data_resp\n",
        "\n",
        "\n",
        "# Login to the API\n",
        "login_token = get_login_token(username = username, password = password)\n",
        "# Do the Search\n",
        "search_results = do_search(query, login_token)\n"
      ],
      "execution_count": 5,
      "outputs": [
        {
          "output_type": "error",
          "ename": "Exception",
          "evalue": "ignored",
          "traceback": [
            "\u001b[0;31m---------------------------------------------------------------------------\u001b[0m",
            "\u001b[0;31mException\u001b[0m                                 Traceback (most recent call last)",
            "\u001b[0;32m<ipython-input-5-9ed2fb12ba5f>\u001b[0m in \u001b[0;36m<module>\u001b[0;34m\u001b[0m\n\u001b[1;32m     67\u001b[0m \u001b[0mlogin_token\u001b[0m \u001b[0;34m=\u001b[0m \u001b[0mget_login_token\u001b[0m\u001b[0;34m(\u001b[0m\u001b[0musername\u001b[0m \u001b[0;34m=\u001b[0m \u001b[0musername\u001b[0m\u001b[0;34m,\u001b[0m \u001b[0mpassword\u001b[0m \u001b[0;34m=\u001b[0m \u001b[0mpassword\u001b[0m\u001b[0;34m)\u001b[0m\u001b[0;34m\u001b[0m\u001b[0;34m\u001b[0m\u001b[0m\n\u001b[1;32m     68\u001b[0m \u001b[0;31m# Do the Search\u001b[0m\u001b[0;34m\u001b[0m\u001b[0;34m\u001b[0m\u001b[0;34m\u001b[0m\u001b[0m\n\u001b[0;32m---> 69\u001b[0;31m \u001b[0msearch_results\u001b[0m \u001b[0;34m=\u001b[0m \u001b[0mdo_search\u001b[0m\u001b[0;34m(\u001b[0m\u001b[0mquery\u001b[0m\u001b[0;34m,\u001b[0m \u001b[0mlogin_token\u001b[0m\u001b[0;34m)\u001b[0m\u001b[0;34m\u001b[0m\u001b[0;34m\u001b[0m\u001b[0m\n\u001b[0m",
            "\u001b[0;32m<ipython-input-5-9ed2fb12ba5f>\u001b[0m in \u001b[0;36mdo_search\u001b[0;34m(query, login_token, order, limit, offset)\u001b[0m\n\u001b[1;32m     60\u001b[0m   \u001b[0;31m# Make sure there were no error returned by the API.\u001b[0m\u001b[0;34m\u001b[0m\u001b[0;34m\u001b[0m\u001b[0;34m\u001b[0m\u001b[0m\n\u001b[1;32m     61\u001b[0m   \u001b[0;32mif\u001b[0m \u001b[0mdata_resp\u001b[0m\u001b[0;34m.\u001b[0m\u001b[0mget\u001b[0m\u001b[0;34m(\u001b[0m\u001b[0;34m'success'\u001b[0m\u001b[0;34m)\u001b[0m \u001b[0;34m==\u001b[0m \u001b[0;32mFalse\u001b[0m\u001b[0;34m:\u001b[0m\u001b[0;34m\u001b[0m\u001b[0;34m\u001b[0m\u001b[0m\n\u001b[0;32m---> 62\u001b[0;31m     \u001b[0;32mraise\u001b[0m \u001b[0mException\u001b[0m\u001b[0;34m(\u001b[0m\u001b[0;34m\"Search Error: %s\"\u001b[0m\u001b[0;34m%\u001b[0m\u001b[0;34m(\u001b[0m\u001b[0mdata_resp\u001b[0m\u001b[0;34m.\u001b[0m\u001b[0mget\u001b[0m\u001b[0;34m(\u001b[0m\u001b[0;34m'error'\u001b[0m\u001b[0;34m)\u001b[0m\u001b[0;34m)\u001b[0m\u001b[0;34m)\u001b[0m\u001b[0;34m\u001b[0m\u001b[0;34m\u001b[0m\u001b[0m\n\u001b[0m\u001b[1;32m     63\u001b[0m   \u001b[0;32mreturn\u001b[0m \u001b[0mdata_resp\u001b[0m\u001b[0;34m\u001b[0m\u001b[0;34m\u001b[0m\u001b[0m\n\u001b[1;32m     64\u001b[0m \u001b[0;34m\u001b[0m\u001b[0m\n",
            "\u001b[0;31mException\u001b[0m: Search Error: The API is unavailable on your account. Contact support@docketalarm.com to enable API access."
          ]
        }
      ]
    }
  ]
}